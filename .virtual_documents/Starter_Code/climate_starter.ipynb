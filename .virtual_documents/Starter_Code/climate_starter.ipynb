%matplotlib inline
from matplotlib import style
style.use('fivethirtyeight')
import matplotlib.pyplot as plt


import numpy as np
import pandas as pd
import datetime as dt





# Python SQL toolkit and Object Relational Mapper
import sqlalchemy
from sqlalchemy.ext.automap import automap_base
from sqlalchemy.orm import Session
from sqlalchemy import create_engine, func


# create engine to hawaii.sqlite
engine = create_engine("sqlite:///Resources/hawaii.sqlite")


# reflect an existing database into a new model
Base = automap_base()
# reflect the tables
Base.prepare(engine, reflect = True)



# View all of the classes that automap found
Base.classes.keys()


# Save references to each table
Measurement = Base.classes.measurement
Station = Base.classes.station


# Create our session (link) from Python to the DB
session = Session(engine)





# Find the most recent date in the data set.
last_date = session.query(Measurement.date).order_by(Measurement.date.desc()).first()
last_date


# Design a query to retrieve the last 12 months of precipitation data and plot the results. 
# Starting from the most recent data point in the database. 

# Calculate the date one year from the last date in data set.
one_year_ago = dt.date(2017, 8, 23) - dt.timedelta(days=365)
print(one_year_ago)




# Perform a query to retrieve the data and precipitation scores
data = session.query(Measurement.date, Measurement.prcp).\
    filter(Measurement.date > one_year_ago).\
    order_by(Measurement.date).all()
data


# Save the query results as a Pandas DataFrame. Explicitly set the column names
data_frame = pd.DataFrame(data).fillna(0)

# Sort the dataframe by date
df=data_frame.sort_values(by=['date'])

# Use Pandas Plotting with Matplotlib to plot the data
df.plot('date','prcp')
plt.xlabel("Date")
plt.ylabel("Inches")
plt.title("Precipitation Analysis from 8/23/16 to 8/23/17")
plt.legend("precipitation")
plt.xticks(rotation=45)
plt.show()


# Use Pandas to calculate the summary statistics for the precipitation data
df.describe()





# Design a query to calculate the total number of stations in the dataset
stations_count = session.query(Measurement).group_by(Measurement.station).count()
print(f'There are total {stations_count} available in this dataset')


# Design a query to find the most active stations (i.e. which stations have the most rows?)
# List the stations and their counts in descending order.
sel = [Station.name, func.count(Measurement.tobs)]
most_active_stations = session.query(*sel).group_by(Station.station).\
               filter(Measurement.station == Station.station).\
               order_by(func.count(Measurement.tobs).desc()).all()

most_active = most_active_stations[0][0]
# List the stations and the counts in descending order.
print(f"The most active station is {most_active}, the active counts are {most_active_stations[0][1]} ")
print("-"*50)
print("Descending order for most active station list")
print("-"*50)
for station, count in most_active_stations:
    print("Station",station,"had",count, "active counts")
    


# Using the most active station id from the previous query, calculate the lowest, highest, and average temperature.
sel_1 = [Measurement.station, func.count(Measurement.tobs)]
most_active_stations = session.query(*sel_1).group_by(Measurement.station).\
               filter(Measurement.station == Station.station).\
               order_by(func.count(Measurement.tobs).desc()).all()
most_active = most_active_stations[0][0]

lowest_temp = session.query(func.min(Measurement.tobs)).\
    filter(Measurement.station == Station.station).\
    order_by(Measurement.tobs).all()

highest_temp = session.query(func.max(Measurement.tobs)).\
    filter(Measurement.station == Station.station).\
    order_by(Measurement.tobs).all()

avg_temp = session.query(func.avg(Measurement.tobs)).\
    filter(Measurement.station == Station.station).\
    order_by(Measurement.tobs).all() 
                                   
print("The lowest  temperature for station",most_active, "is",lowest_temp[0][0],"degree Fahrenheit")
print("The highest temperature for station",most_active, "is",highest_temp[0][0],"degree Fahrenheit")
print("The average temperature for station",most_active, "is",round(avg_temp[0][0],0),"degree Fahrenheit")


# Using the most active station id
# Query the last 12 months of temperature observation data for this station and plot the results as a histogram
temp_data = session.query(Measurement.station,Measurement.date, Measurement.tobs).\
    filter(Measurement.station == most_active).\
    filter(Measurement.date > one_year_ago).\
    order_by(Measurement.date).all()

temp_df = pd.DataFrame(temp_data)

plt.hist(temp_df['tobs'],12)
plt.xlabel("Temperature")
plt.ylabel("Frequency")
plt.title("Station Analysis (8/24/16 to 8/23/17) for Station "+ most_active)
plt.show()





# Close Session
session.close()



